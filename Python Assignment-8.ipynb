{
 "cells": [
  {
   "cell_type": "markdown",
   "metadata": {},
   "source": [
    "# 8. Recall that if s is a string, then s.find( ' a ' ) will find the location of the first a in s . The problem is that it does not find the location of every a. Write a function called findall that given a string and a single character, returns a list containing all of the locations of that character in the string. It should return an empty list if there are no occurrences of the character in the string."
   ]
  },
  {
   "cell_type": "code",
   "execution_count": 14,
   "metadata": {},
   "outputs": [
    {
     "name": "stdout",
     "output_type": "stream",
     "text": [
      "Locations of a are:  12 16 18\n"
     ]
    }
   ],
   "source": [
    "def findall():\n",
    "    s = 'Position of a Character' # given string\n",
    "    location = -1\n",
    "    print 'Locations of a are: ',\n",
    "    while True:\n",
    "        location = s.find('a', location + 1)\n",
    "    # Here the string will search for the location of character 'a' \n",
    "        \n",
    "        if location == -1: # when the search string isn't found\n",
    "            break               # It will exit from the loop and return empty list\n",
    "        else:\n",
    "            yield location # the function will return a generator.\n",
    "            \n",
    "for location in findall():\n",
    "    print (location), \n",
    "    # gives the output of every location of a string"
   ]
  },
  {
   "cell_type": "code",
   "execution_count": null,
   "metadata": {},
   "outputs": [],
   "source": []
  }
 ],
 "metadata": {
  "kernelspec": {
   "display_name": "Python 2",
   "language": "python",
   "name": "python2"
  },
  "language_info": {
   "codemirror_mode": {
    "name": "ipython",
    "version": 2
   },
   "file_extension": ".py",
   "mimetype": "text/x-python",
   "name": "python",
   "nbconvert_exporter": "python",
   "pygments_lexer": "ipython2",
   "version": "2.7.15"
  }
 },
 "nbformat": 4,
 "nbformat_minor": 2
}
