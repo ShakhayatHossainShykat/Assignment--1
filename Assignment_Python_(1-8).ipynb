{
 "cells": [
  {
   "cell_type": "markdown",
   "metadata": {},
   "source": [
    "Python Assignment\n",
    "\n",
    "NAME: MD. Shakhayat Hossain Shykat     ID: 172014001"
   ]
  },
  {
   "cell_type": "markdown",
   "metadata": {},
   "source": [
    "# 1. Write a function called rectangle that takes two integers m and n as arguments and prints out an m × n box consisting of asterisks."
   ]
  },
  {
   "cell_type": "code",
   "execution_count": 3,
   "metadata": {},
   "outputs": [
    {
     "name": "stdout",
     "output_type": "stream",
     "text": [
      "* * * * * * * * * *  \n",
      "* * * * * * * * * *  \n",
      "* * * * * * * * * *  \n",
      "* * * * * * * * * *  \n",
      "* * * * * * * * * *  \n",
      "* * * * * * * * * *  \n",
      "* * * * * * * * * *  \n"
     ]
    }
   ],
   "source": [
    "# print(\"This is a code of making rectangle using stars in m row and n coloum\\n\")\n",
    "\n",
    "def rectangle(m ,n): # here, m is the number of rows and n is the number of coloumns \n",
    " for a in range(m):\n",
    "    for b in range(n):\n",
    "        print(\"*\"),\n",
    "    print(\" \")\n",
    "\n",
    "rectangle(7,10) # here It will print 7 stars in row and 10 stars in coloum and create a rectangle"
   ]
  },
  {
   "cell_type": "markdown",
   "metadata": {},
   "source": [
    "# 2. Write a function called add_excitement that takes a list of strings and adds an exclamation point ( ! ) to the end of each string in the list. The program should modify the original list and not return anything."
   ]
  },
  {
   "cell_type": "code",
   "execution_count": 26,
   "metadata": {},
   "outputs": [
    {
     "name": "stdout",
     "output_type": "stream",
     "text": [
      "Enter string: Hello! I am Shykat!\n",
      "Hello I am Shykat\n"
     ]
    }
   ],
   "source": [
    "def add_exitement():\n",
    "    punc = \"!\"\n",
    "    str = raw_input(\"Enter string: \") # it will take input from the user\n",
    "\n",
    "    no_p = \"\" # it will remove punctuation from the string\n",
    "    for char in str:\n",
    "        if char not in punc:\n",
    "            no_p = no_p + char\n",
    "\n",
    "    print(no_p) # this will  display the new unpunctuated string\n",
    "\n",
    "add_exitement() "
   ]
  },
  {
   "cell_type": "markdown",
   "metadata": {},
   "source": [
    "# 3. Write the same function except that it should not modify the original list and should instead return a new list."
   ]
  },
  {
   "cell_type": "code",
   "execution_count": 6,
   "metadata": {},
   "outputs": [
    {
     "name": "stdout",
     "output_type": "stream",
     "text": [
      "Enter your string: Hello! I am Shyakt\n",
      "\n",
      "New String is:\n"
     ]
    },
    {
     "data": {
      "text/plain": [
       "'Hello! I am Shyakt'"
      ]
     },
     "execution_count": 6,
     "metadata": {},
     "output_type": "execute_result"
    }
   ],
   "source": [
    "def add_exitement():\n",
    "    \n",
    "    String = raw_input(\"Enter your string: \") # This will take a string as input\n",
    "   \n",
    "    print '\\nNew String is:'\n",
    "    return String # this will return the string\n",
    "\n",
    "add_exitement() # its a calling function"
   ]
  },
  {
   "cell_type": "markdown",
   "metadata": {},
   "source": [
    "# 4. The digital root of a number n is obtained as follows: Add up the digits n to get a new number. Add up the digits of that to get another new number. Keep doing this until you get a number that has only one digit. That number is the digital root. For example, if n = 45893 , we add up the digits to get 4 + 5 + 8 + 9 + 3 = 29 . We then add up the digits of 29 to get 2 + 9 = 11 . We then add up the digits of 11 to get 1 + 1 = 2 . Since 2 has only one digit, 2 is our digital root. Write a function that returns the digital root of an integer n . [Note: there is a shortcut, where the digital root is equal to n mod 9, but do not use that here.]"
   ]
  },
  {
   "cell_type": "code",
   "execution_count": 12,
   "metadata": {},
   "outputs": [
    {
     "name": "stdout",
     "output_type": "stream",
     "text": [
      "Enter an integer: 3254\n",
      "Digital Root is:  5\n"
     ]
    }
   ],
   "source": [
    "def digital_root():\n",
    "    \n",
    "    n = input(\"Enter an integer: \") # n is the input of the integer \n",
    "    s = 0 # s represents sum\n",
    "    \n",
    "    while(n > 0 or s > 9):   \n",
    "        if(n == 0): # here ,if the n is 0, the the sum will be 0\n",
    "            n = s\n",
    "            s = 0\n",
    "        else:\n",
    "            s = s + (n % 10)\n",
    "            n = n / 10\n",
    "    \n",
    "    print \"Digital Root is: \", s\n",
    "\n",
    "digital_root() # this is a calling function"
   ]
  },
  {
   "cell_type": "markdown",
   "metadata": {},
   "source": [
    "# 5. Write a function that takes an integer n and returns a random integer with exactly n digits. For instance, if n is 3, then 125 and 593 would be valid return values, but 093 would not because that is really 93, which is a two-digit number."
   ]
  },
  {
   "cell_type": "code",
   "execution_count": 13,
   "metadata": {},
   "outputs": [
    {
     "name": "stdout",
     "output_type": "stream",
     "text": [
      "What will be the length of integer: 5\n",
      "\n",
      "Here is a  5 digit random number: \n"
     ]
    },
    {
     "data": {
      "text/plain": [
       "95433"
      ]
     },
     "execution_count": 13,
     "metadata": {},
     "output_type": "execute_result"
    }
   ],
   "source": [
    "from random import randint\n",
    "\n",
    "def random_num():\n",
    "    \n",
    "    n = input(\"What will be the length of integer: \") # n represents input of the length of the integer\n",
    "    \n",
    "    s = 10 ** (n - 1) # start point of n digits numbers\n",
    "    e = (10 ** n) - 1 # end poin of n digit numbers\n",
    "    print '\\nHere is a ', n, 'digit random number: '\n",
    "    return randint(s, e) # returns a random number\n",
    "\n",
    "random_num()"
   ]
  },
  {
   "cell_type": "markdown",
   "metadata": {},
   "source": [
    "# 6. Write a function called matches that takes two strings as arguments and returns how many matches there are between the strings. A match is where the two strings have the same character at the same index. For instance, ' python ' and ' path ' match in the first, third, and fourth characters, so the function should return 3."
   ]
  },
  {
   "cell_type": "code",
   "execution_count": 20,
   "metadata": {},
   "outputs": [
    {
     "name": "stdout",
     "output_type": "stream",
     "text": [
      "Total Charecters Matched: 2\n"
     ]
    }
   ],
   "source": [
    "def match_func(st1, st2): # function name\n",
    "    \n",
    "    match = set(st1) & set(st2) # finds the matches \n",
    "     \n",
    "    print 'Total Charecters Matched: ' +str(len(match))\n",
    "\n",
    "match_func('Azln','Dazmond') # calling function with arguments"
   ]
  },
  {
   "cell_type": "markdown",
   "metadata": {},
   "source": [
    "# 7. Write a function called primes that is given a number n and returns a list of the first n primes. Let the default value of n be 100."
   ]
  },
  {
   "cell_type": "code",
   "execution_count": 25,
   "metadata": {},
   "outputs": [
    {
     "name": "stdout",
     "output_type": "stream",
     "text": [
      " List of the First 100 Prime Numbers are:  2 3 5 7 11 13 17 19 23 29 31 37 41 43 47 53 59 61 67 71 73 79 83 89 97 101 103 107 109 113 127 131 137 139 149 151 157 163 167 173 179 181 191 193 197 199 211 223 227 229 233 239 241 251 257 263 269 271 277 281 283 293 307 311 313 317 331 337 347 349 353 359 367 373 379 383 389 397 401 409 419 421 431 433 439 443 449 457 461 463 467 479 487 491 499 503 509 521 523 541\n"
     ]
    }
   ],
   "source": [
    "def main(): \n",
    "    print \"List of the First 100 Prime Numbers are: \",\n",
    "    n = 0\n",
    "    c = 0\n",
    "    while c < 100:\n",
    "        if primes(n):\n",
    "            c = c + 1\n",
    "            print n,\n",
    "            # output of the prime numbers horizontally\n",
    "        n = n + 1\n",
    "\n",
    "def primes(n):# primes is function name and n is given number\n",
    "    \n",
    "    r = True\n",
    "    for i in range(2,n):\n",
    "        if n % i == 0: \n",
    "            # checkes prime number\n",
    "            r = False\n",
    "            break\n",
    "\n",
    "    if n <= 1:\n",
    "        r= False\n",
    "    \n",
    "    return r\n",
    "\n",
    "main() # calling main function"
   ]
  },
  {
   "cell_type": "markdown",
   "metadata": {},
   "source": [
    "# 8. Recall that if s is a string, then s.find( ' a ' ) will find the location of the first a in s . The problem is that it does not find the location of every a. Write a function called findall that given a string and a single character, returns a list containing all of the locations of that character in the string. It should return an empty list if there are no occurrences of the character in the string."
   ]
  },
  {
   "cell_type": "code",
   "execution_count": 18,
   "metadata": {},
   "outputs": [
    {
     "name": "stdout",
     "output_type": "stream",
     "text": [
      "Locations of a are:  12 16 18\n"
     ]
    }
   ],
   "source": [
    "def findall():\n",
    "    s = 'Position of a Character' # given string\n",
    "    location = -1\n",
    "    print 'Locations of a are: ',\n",
    "    while True:\n",
    "        location = s.find('a', location + 1)\n",
    "    # Here the string will search for the location of character 'a' \n",
    "        \n",
    "        if location == -1: # when the search string isn't found\n",
    "            break               # It will exit from the loop and return empty list\n",
    "        else:\n",
    "            yield location # the function will return a generator.\n",
    "            \n",
    "for location in findall():\n",
    "    print (location), \n",
    "    # gives the output of every location of a string"
   ]
  },
  {
   "cell_type": "code",
   "execution_count": null,
   "metadata": {},
   "outputs": [],
   "source": []
  }
 ],
 "metadata": {
  "kernelspec": {
   "display_name": "Python 2",
   "language": "python",
   "name": "python2"
  },
  "language_info": {
   "codemirror_mode": {
    "name": "ipython",
    "version": 2
   },
   "file_extension": ".py",
   "mimetype": "text/x-python",
   "name": "python",
   "nbconvert_exporter": "python",
   "pygments_lexer": "ipython2",
   "version": "2.7.15"
  }
 },
 "nbformat": 4,
 "nbformat_minor": 2
}
